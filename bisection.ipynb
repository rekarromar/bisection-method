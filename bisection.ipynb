{
  "nbformat": 4,
  "nbformat_minor": 0,
  "metadata": {
    "colab": {
      "provenance": [],
      "authorship_tag": "ABX9TyOlb4KHf/skxXz4gylncT6t",
      "include_colab_link": true
    },
    "kernelspec": {
      "name": "python3",
      "display_name": "Python 3"
    },
    "language_info": {
      "name": "python"
    }
  },
  "cells": [
    {
      "cell_type": "markdown",
      "metadata": {
        "id": "view-in-github",
        "colab_type": "text"
      },
      "source": [
        "<a href=\"https://colab.research.google.com/github/rekarromar/bisection-method/blob/master/bisection.ipynb\" target=\"_parent\"><img src=\"https://colab.research.google.com/assets/colab-badge.svg\" alt=\"Open In Colab\"/></a>"
      ]
    },
    {
      "cell_type": "code",
      "execution_count": null,
      "metadata": {
        "id": "dZJFXYHCoUgV"
      },
      "outputs": [],
      "source": [
        "def bisectionMethod(function , aInterval , bInterval ):\n",
        "    faInterval = f(aInterval)\n",
        "    fbInterval = f(bInterval)\n",
        "\n",
        "    if faInterval * fbInterval > 0:\n",
        "        print(\"f(a) and f(b) Must Be Different Signs To Find The root \")\n",
        "        return None\n",
        "\n",
        "    for _ in range(100):  # 100 iteration\n",
        "        c = (aInterval + bInterval) / 2\n",
        "        fc = f(c)\n",
        "\n",
        "        if fc == 0:\n",
        "            return c\n",
        "        if faInterval * fc > 0:\n",
        "            aInterval = c\n",
        "            faInterval = fc\n",
        "        if fbInterval * fc > 0:\n",
        "            bInterval = c\n",
        "            fbInterval = fc\n",
        "\n",
        "    return c\n",
        "\n",
        "\n",
        "f = lambda x: x ** 3 -x -1\n",
        "\n",
        "aInterval = 1\n",
        "bInterval = 4\n",
        "print(f\"From : {aInterval}\")\n",
        "print(f\"To : {bInterval}\")\n",
        "root= bisectionMethod(f, aInterval, bInterval)\n",
        "\n",
        "print(f\"Solution   :  {root}\")\n",
        "print(\"--------------------\")\n",
        "aInterval = 3\n",
        "bInterval = 7\n",
        "\n",
        "print(f\"From : {aInterval}\")\n",
        "print(f\"To : {bInterval}\")\n",
        "\n",
        "root= bisectionMethod(f, aInterval, bInterval)\n",
        "\n",
        "print(f\"Solution   :  {root}\")"
      ]
    }
  ]
}